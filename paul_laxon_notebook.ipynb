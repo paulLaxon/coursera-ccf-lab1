{
  "nbformat": 4,
  "nbformat_minor": 0,
  "metadata": {
    "kernelspec": {
      "display_name": "Python 3",
      "language": "python",
      "name": "python3"
    },
    "language_info": {
      "codemirror_mode": {
        "name": "ipython",
        "version": 3
      },
      "file_extension": ".py",
      "mimetype": "text/x-python",
      "name": "python",
      "nbconvert_exporter": "python",
      "pygments_lexer": "ipython3",
      "version": "3.7.6"
    },
    "colab": {
      "name": "paul-laxon-notebook.ipynb",
      "provenance": [],
      "include_colab_link": true
    }
  },
  "cells": [
    {
      "cell_type": "markdown",
      "metadata": {
        "id": "view-in-github",
        "colab_type": "text"
      },
      "source": [
        "<a href=\"https://colab.research.google.com/github/paulLaxon/coursera-ccf-lab1/blob/main/paul_laxon_notebook.ipynb\" target=\"_parent\"><img src=\"https://colab.research.google.com/assets/colab-badge.svg\" alt=\"Open In Colab\"/></a>"
      ]
    },
    {
      "cell_type": "markdown",
      "metadata": {
        "id": "zDcPo9x1JTns"
      },
      "source": [
        "## Practice Markdown"
      ]
    },
    {
      "cell_type": "markdown",
      "metadata": {
        "id": "ugABbuIeJTnz"
      },
      "source": [
        "This notebook lets you experiment with producing repeatable technical documentation.  Use this notebook to do the following actions:\n",
        "\n",
        "* Create a code cell and print a Python Hello World statement:  `print(\"hello world\")`\n",
        "* Create a Markdown Cell and add a Title using `#` and then a statement using plain text.  You can looks at the source code for this cell to get an idea of how to use Markdown.\n",
        "* Take some ideas from the [Master Markdown Github Guide](https://guides.github.com/features/mastering-markdown/) and implement them here.\n",
        "* Download this notebook as a `.ipynb` file and check into a Github Project.  You can [see an example here](https://github.com/noahgift/duke-coursera-ccf-lab1/blob/main/Practice-Markdown.ipynb).\n",
        "* Open your notebook in Google Colab and save it into the same Github Project.  You can [see an example here](https://github.com/noahgift/duke-coursera-ccf-lab1/blob/main/Practice_Markdown_with_colab.ipynb).\n"
      ]
    },
    {
      "cell_type": "code",
      "metadata": {
        "colab": {
          "base_uri": "https://localhost:8080/"
        },
        "id": "gFat_0ZiJTn1",
        "outputId": "0a94156b-239d-4588-d6c1-b71ea8f33f73"
      },
      "source": [
        "print(\"Hello, World!\")"
      ],
      "execution_count": 2,
      "outputs": [
        {
          "output_type": "stream",
          "name": "stdout",
          "text": [
            "Hello, World!\n"
          ]
        }
      ]
    },
    {
      "cell_type": "markdown",
      "metadata": {
        "id": "QFAklK4uJTn4"
      },
      "source": [
        "# My New Technical Doc\n",
        "This is practice for writing a technical document.\n",
        "\n",
        "## Introduction\n",
        "There will be several points made.\n",
        "* point 1\n",
        "* point 2\n",
        "* point 3\n",
        "\n",
        "### Me\n",
        "<img display=\"block\" align=\"left\" width=\"200\" src=\"https://media-exp1.licdn.com/dms/image/C4D03AQGvnejI56HnUw/profile-displayphoto-shrink_800_800/0/1517514108570?e=1642032000&v=beta&t=zshjZxrS54AibWGR92mmTbImj8xkwCJMUoPmK7fRLTI\"><br><br><br><br><br><br><br><br><br><br> \n",
        "\n",
        "### My GitHub Repos\n",
        "[Paul's GitHub Link](https://github.com/paulLaxon)\n",
        "\n",
        "**Don't forget** to use `this code` when you are trying to do some stuff.\n",
        "\n",
        "### Important Code\n",
        "This is some code from my gist: [hello.py](https://gist.github.com/paulLaxon/f6f9799a7f87f68231db2d243039cbcc)\n",
        "\n",
        "More important code:  \n",
        "```This is the first line\n",
        "Here is the second line\n",
        "And finally the last line```"
      ]
    }
  ]
}